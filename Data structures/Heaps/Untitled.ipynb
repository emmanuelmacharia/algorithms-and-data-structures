{
 "cells": [
  {
   "cell_type": "markdown",
   "metadata": {},
   "source": [
    "## Heaps\n",
    "\n",
    "A heap os a special type of tree that fulfils the heap property\n",
    "Heap properties: \n",
    "- Heap is always a complete binary tree\n",
    "- filled from left to right\n",
    "\n",
    "\n",
    "## types of heaps\n",
    "\n",
    "**Min heap**<br />\n",
    "An ordered balanced binary tree where the value at the root of any subtree is less than or equal to the value of either of its children\n",
    "\n",
    "**Max heap/binary heap**<br />\n",
    "\n",
    "\n",
    "\n",
    "## Applications of heaps\n",
    "- Sorting (Heap sort)\n",
    "- Graph algorithms (shortest paths)\n",
    "- Priority queues\n",
    "- Finding the Kth smallest/largest value\n",
    "\n",
    "## Complexity\n",
    "\n",
    "#### Insertion and deletion\n",
    "h = log(n)\n",
    "O(log n)\n",
    "\n",
    "\n",
    "## Building a heap\n",
    "We use arrays to implement heaps, because  heaps are complete bnary trees without any spaces; therefore theres no need for nodes with fills for heft or right children\n",
    "\n",
    "In order to bubble up or doen operations, we need to be able to locate the parent or children of the node\n",
    "\n",
    "\n",
    "- **the item at index 0 is the root element**\n",
    "- Left = (parent * 2) + 1\n",
    "- Right = (parent * 2) + 2\n",
    "- Parent = (index - 1) / 2\n"
   ]
  },
  {
   "cell_type": "code",
   "execution_count": null,
   "metadata": {},
   "outputs": [],
   "source": []
  }
 ],
 "metadata": {
  "kernelspec": {
   "display_name": "Python 3",
   "language": "python",
   "name": "python3"
  },
  "language_info": {
   "codemirror_mode": {
    "name": "ipython",
    "version": 3
   },
   "file_extension": ".py",
   "mimetype": "text/x-python",
   "name": "python",
   "nbconvert_exporter": "python",
   "pygments_lexer": "ipython3",
   "version": "3.8.5"
  }
 },
 "nbformat": 4,
 "nbformat_minor": 4
}
