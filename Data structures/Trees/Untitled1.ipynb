{
 "cells": [
  {
   "cell_type": "markdown",
   "metadata": {},
   "source": [
    "# Trees\n",
    "\n",
    "Trees are non-linear herarchical data structures with nodes. \n",
    "<br />\n",
    "A collection of entities called Nodes, that are connected by edges. Each node contains a value and may or may not have a child node.\n",
    "<br />\n",
    "The edge are important parts of the trees because they manage the relationshipd between nodes\n",
    "<br />\n",
    "\n",
    "The benefit of having trees is that different tree structures allow for quicker and easier access to the data - this can greatly reduce the time complexity of traversal/insertion/deletion since it isnt necessarily dependent on the size of the data\n",
    "\n",
    "A tree has exactly ine path between two nodes; you cant have more than that\n",
    "\n",
    "\n",
    "![tree](https://www.tutorialspoint.com/data_structures_algorithms/images/binary_tree.jpg)\n",
    "\n",
    "\n",
    "## terminologies\n",
    "**Path:** \n",
    "Referse to the sequence of nodes along the edges of a tree. <br />\n",
    "**Root:**\n",
    "The top most node of a tree; there is only one root per tree and one path froom the root node to any node within the tree <br />\n",
    "**Parent:**\n",
    "Any node except the root node that has an edge to a child node <br />\n",
    "**Child:**\n",
    "A node that has a parent <br />\n",
    "**Leaf:**\n",
    "A node withiyt a child node in the tree <br />\n",
    "**Height:**\n",
    "The Longest path to a leaf <br />\n",
    "**Depth:**\n",
    "The length of the path to its root <br />\n",
    "**Subtree:**\n",
    "Represents the decendants of a node <br />\n",
    "**Visiting:**\n",
    "Checking the value of a node when control is on the node <br />\n",
    "**Traversing:**\n",
    "Going through the nodes in a specific order <br />\n",
    "**levels:**\n",
    "The level of a node represents the generation of the node. If the root node is at level 0, then the next child is at level 1 and the grandchild is at level 2 and so on. <br />\n",
    "**keys:**\n",
    "Represent a value of a node based on which a search operation is to be carried out\n",
    "\n",
    "\n",
    "\n",
    "\n",
    "\n",
    "\n",
    "## Binary trees\n",
    "A type of tree where each node has no more that 2 child nodes\n",
    "It has the benefit of both an ordered array and a linked list as search is as quick as in a sorted array and insertion/deletion is as fast as in a linked list\n",
    "Every node in a binary tree has three properties:\n",
    "- A value\n",
    "- A left child\n",
    "- A right child\n",
    "\n",
    "\n"
   ]
  },
  {
   "cell_type": "code",
   "execution_count": null,
   "metadata": {},
   "outputs": [],
   "source": []
  }
 ],
 "metadata": {
  "kernelspec": {
   "display_name": "Python 3",
   "language": "python",
   "name": "python3"
  },
  "language_info": {
   "codemirror_mode": {
    "name": "ipython",
    "version": 3
   },
   "file_extension": ".py",
   "mimetype": "text/x-python",
   "name": "python",
   "nbconvert_exporter": "python",
   "pygments_lexer": "ipython3",
   "version": "3.8.5"
  }
 },
 "nbformat": 4,
 "nbformat_minor": 4
}
