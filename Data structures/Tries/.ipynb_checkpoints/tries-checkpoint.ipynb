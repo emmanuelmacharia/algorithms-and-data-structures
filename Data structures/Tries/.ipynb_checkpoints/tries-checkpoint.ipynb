{
 "cells": [
  {
   "cell_type": "markdown",
   "metadata": {},
   "source": [
    "# Tries\n",
    "\n",
    "## introduction\n",
    "An efficient information re***trie***val data structure. <br />\n",
    "Using Trie, search complexities can be brought down to optimal (key length).\n",
    "If we store keys in binary search tree, a well balanced BST will need time proportional to <code> M * log N </code> where ***M*** is maximum string length andd N is number of keys in trees. <br />\n",
    "Using Trie, we can search the key inn O(M) time. However, the penalty is on Trie storage requirements.\n",
    "    \n",
    "<br />\n",
    "\n",
    "![Trie](https://media.geeksforgeeks.org/wp-content/cdn-uploads/Trie.png)\n",
    "\n",
    "Every node of Trie consists of multiple branches. Each branch represents a possible character of keys. We need to mark the last node of every key as end ogf the word node. A trie node field is ***endOfWord*** is used to distinguish the node as the end of word node.\n",
    "\n",
    "\n",
    "## Implementation"
   ]
  },
  {
   "cell_type": "code",
   "execution_count": null,
   "metadata": {},
   "outputs": [],
   "source": []
  }
 ],
 "metadata": {
  "kernelspec": {
   "display_name": "Python 3",
   "language": "python",
   "name": "python3"
  },
  "language_info": {
   "codemirror_mode": {
    "name": "ipython",
    "version": 3
   },
   "file_extension": ".py",
   "mimetype": "text/x-python",
   "name": "python",
   "nbconvert_exporter": "python",
   "pygments_lexer": "ipython3",
   "version": "3.8.5"
  }
 },
 "nbformat": 4,
 "nbformat_minor": 4
}
