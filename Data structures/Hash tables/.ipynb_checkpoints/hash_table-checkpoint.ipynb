{
 "cells": [
  {
   "cell_type": "code",
   "execution_count": 1,
   "metadata": {},
   "outputs": [],
   "source": [
    "# have beau instead of bea to cause a collision\n",
    "a = ['Jan', 'Tim', 'Mia', 'Sam', 'Leo', 'Bea', 'Lou', 'Ada', 'Max', 'Zoe', 'Ted']\n",
    "\n",
    "# find 'bea'\n",
    "\n",
    "for i in range(len(a)):\n",
    "    if a[i] == 'bea':\n",
    "        print(i, ' = ', a[i])\n",
    "    \n",
    "# basically a linear search, where O(n)"
   ]
  },
  {
   "cell_type": "markdown",
   "metadata": {},
   "source": [
    "# hash table retrieval of data\n",
    "\n",
    "if we already knew the index of 'beau' beforehand, then retreiving it from our array would be super easy, barely an inconvenience\n",
    "in fact, the time it takes to look up the value of any item in our array,if we already know the index, is independent of size of the array,\n",
    "and independent of it's position in the array ie. itll always take constant time O(1)"
   ]
  },
  {
   "cell_type": "code",
   "execution_count": 2,
   "metadata": {},
   "outputs": [
    {
     "name": "stdout",
     "output_type": "stream",
     "text": [
      "Bea\n"
     ]
    }
   ],
   "source": [
    "print(a[5])"
   ]
  },
  {
   "cell_type": "markdown",
   "metadata": {},
   "source": [
    "# Hashing\n",
    "so how do we know the index of the item we want to find beforehand?\n",
    "we can use a hashing function when adding items to our array\n",
    "\n",
    "** Hashing ** is a technique to convert a range of key values into a range of indexes of an array\n",
    "\n",
    "We can have any hashing algorithm we'd like to use, the key objectives to keep in mind when creating a hashing algorithm are\n",
    "1. Minimize collisions - less time is spent on collision resolusion, and ultimately, data retreival will be quicker\n",
    "2. Ideally, your hash function should give you a uniform distribution of hash values - so that data can be spread across your hash table as evenly as possible\n",
    "3. Easy to calculate\n",
    "4. Should include a suitable method of resolving any collisions that do occur\n",
    "\n",
    "\n",
    "## Lets build a hash function\n",
    "Again, it can be any function we'd like it to be as long as it tries to follow those objectives we've listed; \n",
    "The index we create can be generated from the value itself, so that the position our data is in in the array can be somehow related to the data itself.\n",
    "\n",
    "So lets think of a hashing function that we can use to create indexes where we can populate our array `a`\n",
    "\n",
    "For the purposes of this session  we can use a relatively simple hash function, that sums up the ASCII codes of each letter in the string, then we get the modulus of that sum by the size of the array\n",
    "\n",
    "so:\n",
    "\n",
    "```\n",
    "index = (ASCII(j) + ASCII(a) + ASCII(n)) % len(a)\n",
    "\n",
    "# therefore\n",
    "\n",
    "74 + 97 + 110 = 281 % 11 = 6\n",
    "\n",
    "a[6] = 'Jan'\n",
    "\n",
    "\n",
    "```\n",
    "\n",
    "\n",
    "In python we can use the `ord()` function to get the ASCII code for each character in the string"
   ]
  },
  {
   "cell_type": "code",
   "execution_count": 3,
   "metadata": {},
   "outputs": [],
   "source": [
    "def splitter_helper(string: str):\n",
    "    return [char for char in string]\n"
   ]
  },
  {
   "cell_type": "code",
   "execution_count": 4,
   "metadata": {},
   "outputs": [],
   "source": [
    "def hash(name: str, arr) -> int:\n",
    "    arr_length = len(arr)\n",
    "    split_string = splitter_helper(name)\n",
    "    ascii_val = 0\n",
    "    for i in split_string:\n",
    "        ascii_val += ord(i)\n",
    "    return ascii_val % arr_length\n"
   ]
  },
  {
   "cell_type": "code",
   "execution_count": 5,
   "metadata": {},
   "outputs": [
    {
     "data": {
      "text/plain": [
       "6"
      ]
     },
     "execution_count": 5,
     "metadata": {},
     "output_type": "execute_result"
    }
   ],
   "source": [
    "hash('Jan', a)"
   ]
  },
  {
   "cell_type": "code",
   "execution_count": 6,
   "metadata": {},
   "outputs": [
    {
     "data": {
      "text/plain": [
       "0"
      ]
     },
     "execution_count": 6,
     "metadata": {},
     "output_type": "execute_result"
    }
   ],
   "source": [
    "hash('Bea', a)"
   ]
  },
  {
   "cell_type": "markdown",
   "metadata": {},
   "source": [
    "# Lets populate our array\n",
    "\n",
    "we already have a hash function, all we need to do is to call it for every element in our array, and use the index generated to fill in our hash table;\n",
    "We can either iteration or recursion\n",
    "\n",
    "\n",
    "## 1st piece of homework - use recursion to populate our hash table\n",
    "\n",
    "For now we'll iterate through `a` and fill our hash table, we can call it `names_hash_table` since its storing a list of names\n",
    "\n",
    "We'll can instantiate our `names_hash_table` with null characters or 0 in python using list comprehension\n",
    "For C based languages like Java and C#, we can give our variable a size; we cant really do that in python"
   ]
  },
  {
   "cell_type": "code",
   "execution_count": 7,
   "metadata": {},
   "outputs": [],
   "source": [
    "# instantiating our new hash_array\n",
    "\n",
    "names_hash_table = [x*0 for x in range(len(a))]"
   ]
  },
  {
   "cell_type": "code",
   "execution_count": 8,
   "metadata": {},
   "outputs": [
    {
     "data": {
      "text/plain": [
       "[0, 0, 0, 0, 0, 0, 0, 0, 0, 0, 0]"
      ]
     },
     "execution_count": 8,
     "metadata": {},
     "output_type": "execute_result"
    }
   ],
   "source": [
    "names_hash_table"
   ]
  },
  {
   "cell_type": "code",
   "execution_count": 20,
   "metadata": {},
   "outputs": [],
   "source": [
    "# lets fill our new hash table\n",
    "\n",
    "def fill_hash_table(arr, arr_hash):\n",
    "    for i in arr:\n",
    "        index = hash(i, arr)\n",
    "        arr_hash[index] = i"
   ]
  },
  {
   "cell_type": "code",
   "execution_count": 21,
   "metadata": {},
   "outputs": [],
   "source": [
    "fill_hash_table(a, names_hash_table)"
   ]
  },
  {
   "cell_type": "code",
   "execution_count": 22,
   "metadata": {},
   "outputs": [
    {
     "data": {
      "text/plain": [
       "['Bea', 'Tim', 'Leo', 'Sam', 'Mia', 'Zoe', 'Jan', 'Lou', 'Max', 'Ada', 'Ted']"
      ]
     },
     "execution_count": 22,
     "metadata": {},
     "output_type": "execute_result"
    }
   ],
   "source": [
    "names_hash_table"
   ]
  },
  {
   "cell_type": "markdown",
   "metadata": {},
   "source": [
    "### congratulations, we just created our hash table, now lets talk about retreiving data\n",
    "\n",
    "To retreive data, we need to find the index of the data we're looking for;\n",
    "We just used our hashing function to populate our data in our new hash array, and the function returns an index of the data - we can therefore use the same hashing function to find where it stored that specific piece of data\n",
    "\n",
    "Think of our hashing function as a key, that unlocks the memory address of every piece of data it was used to index\n",
    "\n",
    "To retreive data, we can:\n",
    "1. pass the data we want to find through the hash function, and get the index\n",
    "2. use that index to find the piece of data\n",
    "\n",
    "```\n",
    "'Mia' => hash('Mia') => names_hash_table[hash('Mia')]\n",
    "```"
   ]
  },
  {
   "cell_type": "code",
   "execution_count": 25,
   "metadata": {},
   "outputs": [],
   "source": [
    "def retreive_from_hash_table(name: str, arr) -> str:\n",
    "    txt = '{0} is at index {1}' \n",
    "    return txt.format(name, hash(name, arr))\n"
   ]
  },
  {
   "cell_type": "code",
   "execution_count": 26,
   "metadata": {},
   "outputs": [
    {
     "data": {
      "text/plain": [
       "'Ada is at index 9'"
      ]
     },
     "execution_count": 26,
     "metadata": {},
     "output_type": "execute_result"
    }
   ],
   "source": [
    "retreive_from_hash_table('Ada', names_hash_table)"
   ]
  },
  {
   "cell_type": "markdown",
   "metadata": {},
   "source": [
    "## More on hash tables\n",
    "\n",
    "Rather than storing individual items of data, hash tables are often used to store key: value pairs; for example: the name' we're using can be the keys, and the value can be their date's of birth\n",
    "eg:\n",
    "```\n",
    "{'Ada': '1/11/1999'}\n",
    "```\n",
    "for this reason, a hash table that stores values in key:value pairs is refered to as a ** hash map **\n",
    "In fact, we can have each person here an instance of an class, and they can have as many properties as we'd like them to have, and the key would be just one of those many properties\n",
    "\n",
    "By populating our array with objects, we can effectively store as much related data in our array as we'd like, and insertion or retreival would be just as  easy\n",
    "\n",
    "## more on hashing algorithms\n",
    "Its the calculation applied to a key, It may be a long string or a very large number, and transform it into a relatively small index number that corresponds to an index in the hash table.\n",
    "\n",
    "***Here are some strategies we can use to think of when hashing\n",
    "\n",
    "- For numeric keys, we can divide the key by the number of available addresses in our hash table, n, and take the remainder\n",
    "\n",
    "- For alphanumeric kes, we can use the  ASCII codes in the key and get its modulus over the nuber of available addresses\n",
    "\n",
    "- We can also use the folding method,  where we divide the key into equal parts, then add those parts together; depending on the size of the table, we may then divide the sum by some constant and take the remainder\n",
    "\n",
    "There are so many different hashing algorithms to choose from that have varying levels of success but it ultimately depends on the nature of the  data you'd like to hash; just keep in mind the objectives we aluded to ealier in the session:\n",
    "\n"
   ]
  },
  {
   "cell_type": "markdown",
   "metadata": {},
   "source": [
    "# Collisions\n",
    "\n",
    "\n",
    "In a perfect world, with our perfect little dataset, we conveniently didnt get an instance where the hashing algorithm returned the same value for two different pieces of data; This is an ideal situation and very unrealistic - In the real world, the algorithm we selected can return the same memory address for different peices of data; here's an example\n",
    "\n",
    "When taking the names, we sort of forgot one  person who's name was 'beau', so lets just add them in:\n",
    "\n",
    "We insert by getting their hash and adding them into our hash array"
   ]
  },
  {
   "cell_type": "code",
   "execution_count": 14,
   "metadata": {},
   "outputs": [
    {
     "data": {
      "text/plain": [
       "7"
      ]
     },
     "execution_count": 14,
     "metadata": {},
     "output_type": "execute_result"
    }
   ],
   "source": [
    "hash('Beau', a)"
   ]
  },
  {
   "cell_type": "markdown",
   "metadata": {},
   "source": [
    "wait, dont we already have someone in that address? \n",
    "Lets find out\n"
   ]
  },
  {
   "cell_type": "code",
   "execution_count": 15,
   "metadata": {},
   "outputs": [
    {
     "data": {
      "text/plain": [
       "'Lou'"
      ]
     },
     "execution_count": 15,
     "metadata": {},
     "output_type": "execute_result"
    }
   ],
   "source": [
    "names_hash_table[7]"
   ]
  },
  {
   "cell_type": "markdown",
   "metadata": {},
   "source": [
    "So 'Lou' and 'Beau' have the same hash; if we wanted to add 'Beau' into our array by the normal means\n",
    "```\n",
    "a[7] = 'Beau'\n",
    "```\n",
    "We're basically replacing 'Lou' with 'Beau', which is wrong, we need to have both of them in the hash_table;\n",
    "\n",
    "This is what is known as a **collision**\n",
    "\n",
    "## strategies for resolving collisions\n",
    "\n",
    "There are a few strategies to resolve these collisions; if we have enough time we can look at two of those methonds\n",
    "\n",
    "1. Open Addressing\n",
    "2. Chaining\n",
    "\n",
    "## Open Addressing\n",
    "This is where, if our hash function returns the same memory address for two different keys, then we insert the second piece of data in the next available address.\n",
    "To illustrate this, we'll create a new hash table called `names_open_addressing` <br />\n",
    "And we just found out that we misspelled a few names and that most of our data was bogus, so we got a list with the corrected names; `corrected_names`"
   ]
  },
  {
   "cell_type": "code",
   "execution_count": 16,
   "metadata": {},
   "outputs": [],
   "source": [
    "corrected_names = ['Mia', 'Tim', 'Bea', 'Zoe', 'Sue', 'Len', 'Moe', 'Lou', 'Rae', 'Max', 'Tod']\n"
   ]
  },
  {
   "cell_type": "markdown",
   "metadata": {},
   "source": [
    "If we try inserting this data, we will have quite a number of blank addresses and overwritten pieces of data which isnt okay with us; <br /> For illustration lets have a dumb hash table that doesnt take collision into account; lets call it `dumb_hash` and do an insertion operation on it, and see what we get"
   ]
  },
  {
   "cell_type": "code",
   "execution_count": 23,
   "metadata": {},
   "outputs": [
    {
     "name": "stdout",
     "output_type": "stream",
     "text": [
      "['Bea', 'Len', 0, 'Moe', 'Sue', 'Rae', 0, 'Lou', 'Max', 'Tod', 0]\n"
     ]
    }
   ],
   "source": [
    "dumb_hash = [x*0 for x in range(len(corrected_names))]\n",
    "\n",
    "fill_hash_table(corrected_names, dumb_hash)\n",
    "\n",
    "print(dumb_hash)"
   ]
  },
  {
   "cell_type": "code",
   "execution_count": 32,
   "metadata": {},
   "outputs": [
    {
     "name": "stdout",
     "output_type": "stream",
     "text": [
      "4\n",
      "1\n",
      "5\n",
      "\n",
      "\n",
      "Mia is at index 4\n",
      "Tim is at index 1\n",
      "Zoe is at index 5\n"
     ]
    }
   ],
   "source": [
    "print(hash('Mia', corrected_names))\n",
    "print(hash('Tim', corrected_names))\n",
    "print(hash('Zoe', corrected_names))\n",
    "print('\\n')\n",
    "print(retreive_from_hash_table('Mia', dumb_hash))\n",
    "print(retreive_from_hash_table('Tim', dumb_hash))\n",
    "print(retreive_from_hash_table('Zoe', dumb_hash))"
   ]
  },
  {
   "cell_type": "code",
   "execution_count": 34,
   "metadata": {},
   "outputs": [
    {
     "name": "stdout",
     "output_type": "stream",
     "text": [
      "Mia ===>  Sue\n",
      "Tim ===>  Len\n",
      "Zoe ===>  Rae\n"
     ]
    }
   ],
   "source": [
    "print('Mia ===> ', dumb_hash[4])\n",
    "print('Tim ===> ', dumb_hash[1])\n",
    "print('Zoe ===> ', dumb_hash[5])"
   ]
  },
  {
   "cell_type": "code",
   "execution_count": 35,
   "metadata": {},
   "outputs": [
    {
     "name": "stdout",
     "output_type": "stream",
     "text": [
      "11\n"
     ]
    }
   ],
   "source": [
    "names_open_addressing = [x*0 for x in range(len(corrected_names))]\n",
    "print(len(names_open_addressing))"
   ]
  },
  {
   "cell_type": "code",
   "execution_count": 38,
   "metadata": {},
   "outputs": [],
   "source": [
    "## open ended collision resolution function\n",
    "\n",
    "def open_ended_address_insertion(arr, arr_hash):\n",
    "    for i in arr:\n",
    "        index = hash(i, arr)\n",
    "        while arr_hash[index] != 0:\n",
    "            index += 1 \n",
    "        arr_hash[index] = i\n",
    "    "
   ]
  },
  {
   "cell_type": "code",
   "execution_count": 39,
   "metadata": {},
   "outputs": [],
   "source": [
    "open_ended_address_insertion(corrected_names, names_open_addressing)"
   ]
  },
  {
   "cell_type": "code",
   "execution_count": 40,
   "metadata": {},
   "outputs": [
    {
     "data": {
      "text/plain": [
       "['Bea', 'Tim', 'Len', 'Moe', 'Mia', 'Zoe', 'Sue', 'Lou', 'Rae', 'Max', 'Tod']"
      ]
     },
     "execution_count": 40,
     "metadata": {},
     "output_type": "execute_result"
    }
   ],
   "source": [
    "names_open_addressing"
   ]
  },
  {
   "cell_type": "markdown",
   "metadata": {},
   "source": [
    "## open addressing - how it works\n",
    "\n",
    "What we do in `open_ended_addressing` is that if our hash function returns an index where the value of the element in the array is equal to 0, then its safe to add that name to that index. <br /> However, if the address is occupied, the while loop basically looks for the next slot that is not occupied and insets our new name there. We therefore have a full array, and we can see all the names have been properly organized inside the `names_open_addressing` array\n",
    "\n",
    "*we have a bug in our code though, we havent taken into account if the while loop overflows our array; we should simply add a case where it wraps around our array to find elements behind it*\n",
    "\n",
    "For open addressing, every location is available for any item;\n",
    "We can use a variety of techniques while doing open addressing to decide to place an item that doesnt go where it should; This particular method of open addressing is called **linear probing** where a linear search is used to find the next available slot. If linear probing gets to the end of the array and still cant find a slot, it might cycle around to the beginning of the array and continue searching from there.\n",
    "\n",
    "## Retreiving data from array where open addressing is used\n",
    "To look up data, we'll use our same hash function to give us an address, and if the data is not on that memory address, then peform a linear search to get it\n",
    "\n",
    "```\n",
    "data = 'Mia'\n",
    "address = hash('Mia', names_open_addressing) = 4\n",
    "\n",
    "while data != names_open_addressing[address]:\n",
    "    if address == len(names_opon_addressing):\n",
    "        address = 0\n",
    "    address += 1\n",
    " return '{0} is at address {1}'.format(data, address)\n",
    " ```\n",
    "    \n",
    "    \n"
   ]
  },
  {
   "cell_type": "code",
   "execution_count": 41,
   "metadata": {},
   "outputs": [],
   "source": [
    "def retreive_open_addressed_data(name: str, arr) -> str:\n",
    "    txt = '{0} is at address {1}'\n",
    "    address = hash(name, arr)\n",
    "    while name != arr[address]:\n",
    "        if address >= len(arr):\n",
    "            address = 0\n",
    "        address += 1\n",
    "    return txt.format(name, address)"
   ]
  },
  {
   "cell_type": "code",
   "execution_count": 42,
   "metadata": {},
   "outputs": [
    {
     "data": {
      "text/plain": [
       "'Sue is at address 6'"
      ]
     },
     "execution_count": 42,
     "metadata": {},
     "output_type": "execute_result"
    }
   ],
   "source": [
    "retreive_open_addressed_data('Sue', names_open_addressing)"
   ]
  },
  {
   "cell_type": "code",
   "execution_count": 43,
   "metadata": {},
   "outputs": [
    {
     "data": {
      "text/plain": [
       "'Mia is at address 4'"
      ]
     },
     "execution_count": 43,
     "metadata": {},
     "output_type": "execute_result"
    }
   ],
   "source": [
    "retreive_open_addressed_data('Mia', names_open_addressing)"
   ]
  },
  {
   "cell_type": "markdown",
   "metadata": {},
   "source": [
    "## Problems with open addressing and linear probing\n",
    "We earlier mentioned that the benefits of using a hash table was that retreiving data/search is independent of the size of the array and independent of the position the data element is on that array; but from a very big array, this is probably not the case. <br />\n",
    "A linear search has a time complexity of O(n), in our case we're doing O(1) + O(n) where O(1) is the best case (*our hashing function returns the exact position of the element we're searching for ~ aka 'Mia'*) and O(n) where we're using linear probing to find the element in out array\n",
    "\n",
    "Therefore our time complexity using this method of collision resolution would be **O(n)** where some items might require a linear search of the whole table"
   ]
  },
  {
   "cell_type": "markdown",
   "metadata": {},
   "source": [
    "## cont...\n",
    "The more the data we have, the more the collisions we may get; \n",
    "One way to deal with this is to have your hash table bigger than the data you're expecting to have, such that probably only 70% of your hash table is filled at a time. <br /> \n",
    "\n",
    "The ratio between the total number of item stored and the size of the array is called the `Load factor`\n",
    "\n",
    "```\n",
    "Load factor = Total number of items stored / size of the hash array\n",
    "```\n",
    "\n",
    "If the hash table has been created to dynamically change size, then we can have it dynamically increase its size when the load factor gets to a certain threashold.\n",
    "\n",
    "As long as you have an appropriate load factor thats reasonably low, open addressing with linear probing should work reasonably well"
   ]
  },
  {
   "cell_type": "markdown",
   "metadata": {},
   "source": [
    "## Chaining"
   ]
  },
  {
   "cell_type": "code",
   "execution_count": null,
   "metadata": {},
   "outputs": [],
   "source": []
  }
 ],
 "metadata": {
  "kernelspec": {
   "display_name": "Python 3",
   "language": "python",
   "name": "python3"
  },
  "language_info": {
   "codemirror_mode": {
    "name": "ipython",
    "version": 3
   },
   "file_extension": ".py",
   "mimetype": "text/x-python",
   "name": "python",
   "nbconvert_exporter": "python",
   "pygments_lexer": "ipython3",
   "version": "3.8.5"
  }
 },
 "nbformat": 4,
 "nbformat_minor": 4
}
