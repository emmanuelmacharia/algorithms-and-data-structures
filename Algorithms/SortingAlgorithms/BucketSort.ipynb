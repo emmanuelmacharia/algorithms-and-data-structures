{
 "cells": [
  {
   "cell_type": "markdown",
   "metadata": {},
   "source": [
    "## Bucket Sort\n",
    "\n",
    "- A comparison sort algorithm that operates on eements by dividing them into different buckets then sorting the buckets individually.\n",
    "- Each bucket is sorted individually using a separate sorting algorithm like insertion sort or using bucket sort recursively\n",
    "- Useful when input is uniformly distributed over a range\n",
    "- For example, imagine you have a large array of floating point integers distributed uniformly between an upper and lower bound. You could use another sorting algorithm like merge sort, heap sort, or quick sort. However, those algorithms guarantee a best case time complexity of `O(nlogn)`. Using bucket sort, sorting the same array can be completed in `O(n)` time.\n"
   ]
  },
  {
   "cell_type": "markdown",
   "metadata": {},
   "source": [
    "### Pseudo code\n",
    "\n",
    "<code> \n",
    "def bucket_sort(a: int): -> a[] \n",
    "    for x in n:\n",
    "        # insert x into bucket\n",
    "        bucket.append[n[x]]\n",
    "    for bucket of buckets:\n",
    "        sort(bucket)\n",
    "</code>"
   ]
  }
 ],
 "metadata": {
  "language_info": {
   "name": "python"
  }
 },
 "nbformat": 4,
 "nbformat_minor": 2
}
