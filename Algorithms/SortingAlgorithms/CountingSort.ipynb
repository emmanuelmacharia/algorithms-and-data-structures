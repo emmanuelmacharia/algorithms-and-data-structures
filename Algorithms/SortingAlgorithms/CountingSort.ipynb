{
 "cells": [
  {
   "cell_type": "markdown",
   "metadata": {},
   "source": [
    "## Counting Sort\n",
    "\n",
    "- Works first by creating a list of the counts or ocurrences of each unique value in the list; then creates a final sorted list based on the list of counts\n",
    "- One important thing to remember is that counting sort can only be used when you know the range of possible values in the input beforehand.\n",
    "\n"
   ]
  },
  {
   "cell_type": "markdown",
   "metadata": {},
   "source": [
    "### pseudo-code\n",
    "\n",
    "```\n",
    "# say you have a list of integers from 0 to 5\n",
    "\n",
    "input = [2, 5, 3, 1, 4, 2]\n",
    "\n",
    "# first, we create a list of counts fo each unique value. Since the range of the inputs is 5, you can create a list with 5 placeholders\n",
    "\n",
    "count = [0 for i in range(5)]\n",
    "\n",
    "# we iterate through the input \n",
    "\n",
    "# For example, the first value in the `input` list is 2, so you insert 1\n",
    "to the value at the second index of the `count` list, which represents\n",
    "the value 2\n",
    "\n",
    "count = [0, 0, 1, 0, 0, 0]\n",
    "\n",
    "#The next value in the `input` list is 5, so you insert 1 to the value at\n",
    "the last index of the `count` list, which represents the value 5:\n",
    "\n",
    "count = [0, 0, 1, 0, 0, 1]\n",
    "\n",
    "# Continue until you have the total count for each value in the `input`\n",
    "list:\n",
    "\n",
    "count = [0, 1, 2, 1, 1, 1]\n",
    "\n",
    "#Finally, since you know how many times each value in the `input` list\n",
    "appears, you can easily create a sorted `output` list. Loop through\n",
    "the `count` list, and for each count, add the corresponding value\n",
    "(0 - 5) to the `output` array that many times.\n",
    "\n",
    "#For example, there were no 0's in the `input` list, but there was one\n",
    "occurrence of the value 1, so you add that value to the `output` array\n",
    "one time:\n",
    "\n",
    "output = [1]\n",
    "\n",
    "#Then there were two occurrences of the value 2, so you add those to the\n",
    "`output` list:\n",
    "\n",
    "output = [1, 2, 2]\n",
    "\n",
    "#And so on until you have the final sorted `output` list:\n",
    "\n",
    "output = [1, 2, 2, 3, 4, 5]\n",
    "```"
   ]
  },
  {
   "cell_type": "markdown",
   "metadata": {},
   "source": [
    "### Properties\n",
    "\n",
    "- Space Complexity: `O(k)`\n",
    "\n",
    "- Best performance: `O(n+k)`\n",
    "\n",
    "- Average case performance: `O(n+k)`\n",
    "\n",
    "- Worst case performance: `O(n+k)`\n",
    "\n",
    "- Stable: Yes. `k` is the range of elements in the array; `n` is the number of elements in the array"
   ]
  },
  {
   "cell_type": "code",
   "execution_count": 1,
   "metadata": {},
   "outputs": [
    {
     "name": "stdout",
     "output_type": "stream",
     "text": [
      "[1, 1, 2, 2, 4, 5, 7]\n"
     ]
    }
   ],
   "source": [
    "numbers = [1, 4, 1, 2, 7, 5, 2]\n",
    "\n",
    "i = 0\n",
    "\n",
    "maximum = max(numbers)\n",
    "\n",
    "\n",
    "count = [0 for i in range(i, maximum + 1)]\n",
    "\n",
    "# initialize output list\n",
    "output = [0 for i in range(len(numbers))]\n",
    "\n",
    "# store the count of each element in the count list\n",
    "for i in range(0, len(numbers)):\n",
    "    count[numbers[i]] += 1\n",
    "\n",
    "# why are we doing this?\n",
    "for i in range(1, len(count)):\n",
    "    count[i] += count[i - 1]\n",
    "\n",
    "# build the output list\n",
    "for i in range(len(numbers) - 1, -1, -1):\n",
    "    output[count[numbers[i]] - 1] = numbers[i]\n",
    "    count[numbers[i]] -= 1\n",
    "\n",
    "print(output)"
   ]
  }
 ],
 "metadata": {
  "kernelspec": {
   "display_name": "Python 3",
   "language": "python",
   "name": "python3"
  },
  "language_info": {
   "codemirror_mode": {
    "name": "ipython",
    "version": 3
   },
   "file_extension": ".py",
   "mimetype": "text/x-python",
   "name": "python",
   "nbconvert_exporter": "python",
   "pygments_lexer": "ipython3",
   "version": "3.9.1"
  }
 },
 "nbformat": 4,
 "nbformat_minor": 2
}
